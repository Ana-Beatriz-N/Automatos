{
  "nbformat": 4,
  "nbformat_minor": 0,
  "metadata": {
    "colab": {
      "provenance": []
    },
    "kernelspec": {
      "name": "python3",
      "display_name": "Python 3"
    },
    "language_info": {
      "name": "python"
    }
  },
  "cells": [
    {
      "cell_type": "code",
      "execution_count": 2,
      "metadata": {
        "colab": {
          "base_uri": "https://localhost:8080/"
        },
        "id": "K5bJc2JTrNnb",
        "outputId": "402280ee-2644-4eab-a9d3-d1ab0340150a"
      },
      "outputs": [
        {
          "output_type": "stream",
          "name": "stdout",
          "text": [
            "Validador de E-mails\n",
            "Digite um e-mail: teste@gmail.com\n",
            "✅ E-mail válido!\n"
          ]
        }
      ],
      "source": [
        "import re\n",
        "\n",
        "def validar_email(email):\n",
        "    # Expressão regular para validar e-mail\n",
        "    padrao = r'^[\\w](?:[\\w\\.-]*[\\w])?@[\\w\\.-]+\\.\\w{2,}$'\n",
        "\n",
        "    if re.match(padrao, email):\n",
        "        return True\n",
        "    else:\n",
        "        return False\n",
        "\n",
        "# Programa principal\n",
        "print(\"Validador de E-mails\")\n",
        "email = input(\"Digite um e-mail: \")\n",
        "\n",
        "if validar_email(email):\n",
        "    print(\"✅ E-mail válido!\")\n",
        "else:\n",
        "    print(\"❌ E-mail inválido.\")\n"
      ]
    }
  ]
}